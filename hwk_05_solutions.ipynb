{
 "cells": [
  {
   "cell_type": "markdown",
   "metadata": {},
   "source": [
    "# Introduction to Programming Business Applications\n",
    "# Fall 2019, Professor Tosyali\n",
    "# Homework 5 Solutions"
   ]
  },
  {
   "cell_type": "markdown",
   "metadata": {},
   "source": [
    "## Question 1\n",
    "Write a function that computes and returns the sum of the digits for any integer that is between 1 and 999, inclusive. Use the following function header:\n",
    "\n",
    "```python\n",
    "def sum_digits(number):\n",
    "```\n",
    "\n",
    "Once you define your function, run the following examples:\n",
    "\n",
    "```python\n",
    "print(sum_digits(5))\n",
    "print(sum_digits(65))\n",
    "print(sum_digits(658))\n",
    "```\n",
    "\n",
    "**Note:** Do not hard-code your function. Your function should run for any number between 1 and 999. Your function should be able to decide if the number has 1 digit, 2 digits, or 3 digits."
   ]
  },
  {
   "cell_type": "code",
   "execution_count": 8,
   "metadata": {},
   "outputs": [
    {
     "name": "stdout",
     "output_type": "stream",
     "text": [
      "5\n",
      "11\n",
      "19\n"
     ]
    }
   ],
   "source": [
    "## YOUR CODE HERE FOR QUESTION 1 \n",
    "\n",
    "def sum_digits(number):\n",
    "    total = 0\n",
    "    for digit in str(number):\n",
    "        total = total + int(digit)\n",
    "    return total\n",
    "\n",
    "print(sum_digits(5))\n",
    "print(sum_digits(65))\n",
    "print(sum_digits(658))"
   ]
  },
  {
   "cell_type": "markdown",
   "metadata": {},
   "source": [
    "## Question 2\n",
    "Write a function that takes 3 numbers and returns them in increasing order. Notice that, numbers can be equal. Once you define your function, run the following example:\n",
    "\n",
    "```python\n",
    "print(your_function_name(5, 3, -5))\n",
    "```"
   ]
  },
  {
   "cell_type": "code",
   "execution_count": 13,
   "metadata": {},
   "outputs": [
    {
     "data": {
      "text/plain": [
       "(-5, 3, 5)"
      ]
     },
     "execution_count": 13,
     "metadata": {},
     "output_type": "execute_result"
    }
   ],
   "source": [
    "## YOUR CODE HERE FOR QUESTION 2\n",
    "def sorts(n1, n2, n3):\n",
    "    largest = max(n1, n2, n3)\n",
    "    smallest = min(n1, n2, n3)\n",
    "    middle = sum([n1, n2, n3]) - smallest - largest\n",
    "    return smallest, middle, largest\n",
    "\n",
    "sorts(5, 3, -5)"
   ]
  },
  {
   "cell_type": "markdown",
   "metadata": {},
   "source": [
    "## Question 3\n",
    "A palindromic prime is a prime number that is also palindromic. For example, **131** is a prime and also a palindromic prime, as are **313** and **757**. Write a program that displays the first 10 palindromic prime numbers.\n",
    "\n",
    "Modularize your code by defining functions."
   ]
  },
  {
   "cell_type": "code",
   "execution_count": 15,
   "metadata": {},
   "outputs": [
    {
     "name": "stdout",
     "output_type": "stream",
     "text": [
      "2\n",
      "3\n",
      "5\n",
      "7\n",
      "11\n",
      "101\n",
      "131\n",
      "151\n",
      "181\n",
      "191\n"
     ]
    }
   ],
   "source": [
    "## YOUR CODE HERE FOR QUESTION 3\n",
    "def reverse(number):\n",
    "    if number <= 9:\n",
    "        return number\n",
    "    elif number <= 99:\n",
    "        d1 = number // 10\n",
    "        d2 = number % 10\n",
    "        return d2 * 10 + d1\n",
    "    elif number <= 999:\n",
    "        d1 = number // 100\n",
    "        remaining = number % 100\n",
    "        d2 = remaining // 10\n",
    "        d3 = remaining % 10\n",
    "        return d3 * 100 + d2 * 10 + d1\n",
    "\n",
    "def is_palindromic(number):\n",
    "    if reverse(number) == number:\n",
    "        return True\n",
    "    else:\n",
    "        return False\n",
    "\n",
    "def is_prime(number):\n",
    "    # assume the number is prime\n",
    "    is_it_prime = True # is the current number prime?\n",
    "    \n",
    "    # test if number is prime\n",
    "    divisor = 2\n",
    "    while divisor <= number / 2:\n",
    "        if number % divisor == 0:\n",
    "            # if true, the number is not prime\n",
    "            is_it_prime = False # set is_prime to false\n",
    "            break # exit the while loop\n",
    "        divisor = divisor + 1\n",
    "        \n",
    "    return is_it_prime\n",
    "\n",
    "def is_palindromic_prime(number):\n",
    "    if is_prime(number) and is_palindromic(number):\n",
    "        return True\n",
    "    else:\n",
    "        return False\n",
    "\n",
    "num_of_pal_prime = 10\n",
    "count = 0\n",
    "number = 2\n",
    "while count < num_of_pal_prime:\n",
    "    if is_palindromic_prime(number):\n",
    "        print(number)\n",
    "        count = count + 1\n",
    "    number = number + 1"
   ]
  },
  {
   "cell_type": "markdown",
   "metadata": {},
   "source": [
    "## Question 4\n",
    "You can shuffle a list using **random.shuffle(your_list)**. Write your own function without using **random.shuffle(your_list)** to shuffle a list and return the list. Once you define your function, run the following example:\n",
    "\n",
    "```python\n",
    "print(your_function_name([5, 7, 3, 60, 2, -1]))\n",
    "```\n",
    "\n",
    "**Note:** Do not hard-code your function. It should be able to shuffle any list with any number of elements."
   ]
  },
  {
   "cell_type": "code",
   "execution_count": 19,
   "metadata": {},
   "outputs": [
    {
     "name": "stdout",
     "output_type": "stream",
     "text": [
      "[5, 60, 2, 7, -1, 3]\n"
     ]
    }
   ],
   "source": [
    "## YOUR CODE HERE FOR QUESTION 4\n",
    "def shuffle(x):\n",
    "    import random\n",
    "    for i in range(len(x)):\n",
    "        # generate a random index between 0 and len(x) - 1\n",
    "        rand_ind = random.randint(0, len(x)-1)\n",
    "        # find the value with random index\n",
    "        value_rand_ind = x[rand_ind]\n",
    "        # remove that value\n",
    "        x.remove(value_rand_ind)\n",
    "        # generate another random index to insert the value that we removed\n",
    "        rand_insert_ind = random.randint(0, len(x)-1)\n",
    "        # insert the value back to the list\n",
    "        x.insert(rand_insert_ind, value_rand_ind) \n",
    "    return x\n",
    "                             \n",
    "print(shuffle([5, 7, 3, 60, 2, -1]))"
   ]
  },
  {
   "cell_type": "markdown",
   "metadata": {},
   "source": [
    "## Question 5\n",
    "(Game: locker puzzle) A school has 100 lockers and 100 students. All lockers are closed on the first day of school. As the students enter, the first student, denoted S1, opens every locker. Then the second student, S2, begins with the second locker, denoted L2, and closes every other locker. Student S3 begins with the third locker and changes every third locker (closes it if it was open, and opens it if it was closed). Student S4 begins with locker L4 and changes every fourth locker. Student S5 starts with L5 and changes every fifth locker, and so on, until student S100 changes L100. \n",
    "\n",
    "After all the students have passed through the building and changed the lockers, which lockers are open? Write a program to find your answer.\n",
    "\n",
    "(Hint: Use a list of 100 Boolean elements, each of which indicates whether a locker is open (**True**) or closed (**False**). Initially, all lockers are closed.)"
   ]
  },
  {
   "cell_type": "code",
   "execution_count": 26,
   "metadata": {},
   "outputs": [
    {
     "name": "stdout",
     "output_type": "stream",
     "text": [
      "1  4  9  16  25  36  49  64  81  100  "
     ]
    }
   ],
   "source": [
    "## YOUR CODE HERE FOR QUESTION 5\n",
    "\n",
    "lockers = [False] * 100\n",
    "for S in range(100):\n",
    "    for L in range(S,100,S+1):\n",
    "        lockers[L] = not lockers[L]\n",
    "        \n",
    "for i in range(len(lockers)):\n",
    "    if lockers[i]:\n",
    "        print(i + 1, end='  ')"
   ]
  }
 ],
 "metadata": {
  "kernelspec": {
   "display_name": "Python 3",
   "language": "python",
   "name": "python3"
  },
  "language_info": {
   "codemirror_mode": {
    "name": "ipython",
    "version": 3
   },
   "file_extension": ".py",
   "mimetype": "text/x-python",
   "name": "python",
   "nbconvert_exporter": "python",
   "pygments_lexer": "ipython3",
   "version": "3.7.3"
  }
 },
 "nbformat": 4,
 "nbformat_minor": 2
}
