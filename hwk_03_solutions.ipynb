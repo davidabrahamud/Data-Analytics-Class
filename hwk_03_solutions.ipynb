{
 "cells": [
  {
   "cell_type": "markdown",
   "metadata": {},
   "source": [
    "# Introduction to Programming Business Applications\n",
    "# Fall 2019, Professor Tosyali\n",
    "# Homework 3 Solutions"
   ]
  },
  {
   "cell_type": "markdown",
   "metadata": {},
   "source": [
    "## Question\n",
    "The United States federal personal income tax is calculated based on filing status and taxable income. There are four filing statuses: single filers, married filing jointly, married filing separately, and head of household. The tax rates vary every year. Below are the rates for 2009. If you are, say, single with a taxable income of \\\\$10,000, the first \\\\$8,350 is taxed at 10% and the other \\\\$1,650 is taxed at 15%. So, your tax is \\\\$1,082.50.\n",
    "\n",
    "| Marginal Tax Rate | Single Filing Status   | Married Filing Jointly Status | Married Filing Separately Status | Head of Household Status |\n",
    "|------|-------------|------|------|------|\n",
    "|10% | \\\\$0 – \\\\$8,350      | \\\\$0 – \\\\$16,700   | \\\\$0 – \\\\$8,350 | \\\\$0 – \\\\$11,950|\n",
    "|15% | \\\\$8,351 – \\\\$33,950 | \\\\$16,701 – \\\\$67,900 | \\\\$8,351 – \\\\$33,950 | \\\\$11,951 – \\\\$45,500 |\n",
    "|25% | \\\\$33,951 – \\\\$82,250 | \\\\$67,901 – \\\\$137,050 | \\\\$33,951 – \\\\$68,525 | \\\\$45,501 – \\\\$117,450 |\n",
    "|28% | \\\\$82,251 – \\\\$171,550 | \\\\$137,051 – \\\\$208,850 | \\\\$68,526 – \\\\$104,425 | \\\\$117,451 – \\\\$190,200 |\n",
    "|33% | \\\\$171,551 – \\\\$372,950 | \\\\$208,851 – \\\\$372,950 | \\\\$104,426 – \\\\$186,475 | \\\\$190,201 – \\\\$372,950 |\n",
    "|35% | \\\\$372,951+ | \\\\$372,951+ | \\\\$186,476+ | \\\\$372,951+ |\n",
    "\n",
    "You are to write a program to compute personal income tax. Your program should prompt the user to enter the filing status and taxable income and then compute the tax. Enter 0 for single filers, 1 for married filing jointly, 2 for married filing separately, and 3 for head of household.\n",
    "\n",
    "In the below program, I completed the code for single filers. You need to complete the code for other statutes."
   ]
  },
  {
   "cell_type": "code",
   "execution_count": 6,
   "metadata": {},
   "outputs": [
    {
     "name": "stdout",
     "output_type": "stream",
     "text": [
      "Enter the status: 0 for single filing, 1 for married filing jointly, 2 for married filing separately, 3 for head of household: 3\n",
      "Enter the taxable income: 123556\n",
      "Tax is 25924.68\n"
     ]
    }
   ],
   "source": [
    "# prompt the user to enter filing status\n",
    "status = eval(input(\"Enter the status: 0 for single filing, \" +\n",
    "                    \"1 for married filing jointly, \" +\n",
    "                    \"2 for married filing separately, \" +\n",
    "                    \"3 for head of household: \"))\n",
    "\n",
    "# prompt the user to enter taxable income\n",
    "income = eval(input(\"Enter the taxable income: \"))\n",
    "\n",
    "# compute tax\n",
    "tax = 0\n",
    "\n",
    "if status == 0: # compute tax for single filers\n",
    "    if income <= 8350:\n",
    "        tax = income * 0.10\n",
    "    elif income <= 33950:\n",
    "        tax = 8350 * 0.10 + (income - 8350) * 0.15\n",
    "    elif income <= 82250:\n",
    "        tax = 8350 * 0.10 + (33950 - 8350) * 0.15 + (income - 33950) * 0.25\n",
    "    elif income <= 171550:\n",
    "        tax = 8350 * 0.10 + (33950 - 8350) * 0.15 + (82250 - 33950) * 0.25 + (income - 82250) * 0.28\n",
    "    elif income <= 372950:\n",
    "        tax = 8350 * 0.10 + (33950 - 8350) * 0.15 + (82250 - 33950) * 0.25 + (171550 - 82250) * 0.28 + (income - 171550) * 0.33\n",
    "    else:\n",
    "        tax = 8350 * 0.10 + (33950 - 8350) * 0.15 + (82250 - 33950) * 0.25 + (171550 - 82250) * 0.28 + (372950 - 171550) * 0.33 + (income - 372950) * 0.35\n",
    "\n",
    "elif status == 1: # compute tax for married filing jointly\n",
    "    if income <= 16700:\n",
    "        tax = income * 0.10\n",
    "    elif income <= 67900:\n",
    "        tax = 16700 * 0.10 + (income - 16700) * 0.15\n",
    "    elif income <= 137050:\n",
    "        tax = 16700 * 0.10 + (67900 - 16700) * 0.15 + (income - 67900) * 0.25\n",
    "    elif income <= 208850:\n",
    "        tax = 16700 * 0.10 + (67900 - 16700) * 0.15 + (137050 - 67900) * 0.25 + (income - 137050) * 0.28\n",
    "    elif income <= 372950:\n",
    "        tax = 16700 * 0.10 + (67900 - 16700) * 0.15 + (137050 - 67900) * 0.25 + (208850 - 137050) * 0.28 + (income - 208850) * 0.33\n",
    "    else:\n",
    "        tax = 16700 * 0.10 + (67900 - 16700) * 0.15 + (137050 - 67900) * 0.25 + (208850 - 137050) * 0.28 + (372950 - 208850) * 0.33 + (income - 372950) * 0.35\n",
    "    \n",
    "elif status == 2: # compute tax for married separately\n",
    "    if income <= 8350:\n",
    "        tax = income * 0.10\n",
    "    elif income <= 33950:\n",
    "        tax = 8350 * 0.10 + (income - 8350) * 0.15\n",
    "    elif income <= 68525:\n",
    "        tax = 8350 * 0.10 + (33950 - 8350) * 0.15 + (income - 33950) * 0.25\n",
    "    elif income <= 104425:\n",
    "        tax = 8350 * 0.10 + (33950 - 8350) * 0.15 + (68525 - 33950) * 0.25 + (income - 68525) * 0.28\n",
    "    elif income <= 186475:\n",
    "        tax = 8350 * 0.10 + (33950 - 8350) * 0.15 + (68525 - 33950) * 0.25 + (104425 - 68525) * 0.28 + (income - 104425) * 0.33\n",
    "    else:\n",
    "        tax = 8350 * 0.10 + (33950 - 8350) * 0.15 + (68525 - 33950) * 0.25 + (104425 - 68525) * 0.28 + (186475 - 104425) * 0.33 + (income - 186475) * 0.35\n",
    "    \n",
    "else: # compute tax for head of household \n",
    "    if income <= 11950:\n",
    "        tax = income * 0.10\n",
    "    elif income <= 45500:\n",
    "        tax = 11950 * 0.10 + (income - 11950) * 0.15\n",
    "    elif income <= 117450:\n",
    "        tax = 11950 * 0.10 + (45500 - 11950) * 0.15 + (income - 45500) * 0.25\n",
    "    elif income <= 190200:\n",
    "        tax = 11950 * 0.10 + (45500 - 11950) * 0.15 + (117450 - 45500) * 0.25 + (income - 117450) * 0.28\n",
    "    elif income <= 372950:\n",
    "        tax = 11950 * 0.10 + (45500 - 11950) * 0.15 + (117450 - 45500) * 0.25 + (190200 - 117450) * 0.28 + (income - 190200) * 0.33\n",
    "    else:\n",
    "        tax = 11950 * 0.10 + (45500 - 11950) * 0.15 + (117450 - 45500) * 0.25 + (190200 - 117450) * 0.28 + (372950 - 190200) * 0.33 + (income - 372950) * 0.35\n",
    "    \n",
    "        \n",
    "# display the result\n",
    "print(\"Tax is\", format(tax, \".2f\"))"
   ]
  }
 ],
 "metadata": {
  "kernelspec": {
   "display_name": "Python 3",
   "language": "python",
   "name": "python3"
  },
  "language_info": {
   "codemirror_mode": {
    "name": "ipython",
    "version": 3
   },
   "file_extension": ".py",
   "mimetype": "text/x-python",
   "name": "python",
   "nbconvert_exporter": "python",
   "pygments_lexer": "ipython3",
   "version": "3.7.3"
  }
 },
 "nbformat": 4,
 "nbformat_minor": 2
}
