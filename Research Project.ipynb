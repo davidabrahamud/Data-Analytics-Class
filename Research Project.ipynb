{
 "cells": [
  {
   "cell_type": "markdown",
   "metadata": {},
   "source": [
    "# The Research Project\n",
    "To earn an A in the class, you must research a new topic in analytics, find data in Kaggle (or another source) that is relevant, and then write up a memo that describes the topic, your research, your analysis, and your findings.  Although you may use a topic from the Udemy class, **you may not use any of the data that Frank uses in the Udemy class. You must find your own data.**\n",
    "\n",
    "Students who want to do this project must have their topic approved by me before Monday, November 2nd.  Your analysis approach must use one of the following:\n",
    "* Support Vector Machines (SVMs)\n",
    "* Logistic Regression\n",
    "* Naive Bayes\n",
    "* K-Nearest Neighbors\n",
    "\n",
    "Note that **you** must be the driving force behind this project--not me.  That motivation is what will merit an A in the course.   The research project is due the final week of class. "
   ]
  },
  {
   "cell_type": "code",
   "execution_count": null,
   "metadata": {},
   "outputs": [],
   "source": []
  }
 ],
 "metadata": {
  "kernelspec": {
   "display_name": "Python 3",
   "language": "python",
   "name": "python3"
  },
  "language_info": {
   "codemirror_mode": {
    "name": "ipython",
    "version": 3
   },
   "file_extension": ".py",
   "mimetype": "text/x-python",
   "name": "python",
   "nbconvert_exporter": "python",
   "pygments_lexer": "ipython3",
   "version": "3.5.6"
  }
 },
 "nbformat": 4,
 "nbformat_minor": 4
}
