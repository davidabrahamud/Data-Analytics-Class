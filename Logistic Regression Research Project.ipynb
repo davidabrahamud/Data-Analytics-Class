{
 "cells": [
  {
   "cell_type": "markdown",
   "metadata": {},
   "source": [
    "## Heart Failure Prediction For Adult Males Machine Learning Model Using Logistic Regression\n",
    "## David Abraham"
   ]
  },
  {
   "cell_type": "markdown",
   "metadata": {},
   "source": [
    "## Memo"
   ]
  },
  {
   "cell_type": "markdown",
   "metadata": {},
   "source": [
    "Cardiovascular diseases are the number one cause of deaths globally, taking an estimated 17.9 million lives each year, which accounts for 31% of all deaths worldwide. Heart Failure is a common event caused by the cardiovascular diseases. People with cardiovascular diseases need early detection and management so in the research below, we will dive into the level at risk of a death event male adults have with the features: diabetes, anaemia, high blood pressure, and smoking. Using logistic regression, we will find out which of these features will most likely be linked to a death event from cardiovasular disease. To do this we began by feature engineering a male column and dropped all females from the dataset. This brought down our cases from 300 rows of data to 196. This shows that about 66% of this case study was from men and I found that interesting and began to dive into the data.  To first take a look, we split data into X and Y data frames. The Y was the dependent variable which is the case of a death event. The X data frame consisted of the features we listed above.\n",
    "\n",
    "   To begin diving into the data and understand what puts adult men at the biggest risk for cardiovascular disease, we are going to take a look at figure 1 again and the coefficients for the features. In this figure, you can begin to see that the biggest two factors that contribute to cardiovascular disease is high blood pressure and age. Based on the constant coefficient, adult men are not at a great risk of having cardiovascular disease but every year added onto your age, adds a .05 chance of a death event occurring and having high blood pressure tacks on an extra .13. Interestingly, it says diabetes, anaemia, and smoking actually decrease the chance of a death event due to cardiovascular disease. A person has a less chance of a death event from cardiovascular disease if they are diabetic, which makes sense because their cause of death can come from a number of different things and most diabetics actually end up taking good care of themselves. A person with higher anaemia decreases the chances of a death event from cardiovascular disease and with smoking, a person has less chance of dying from cardiovascular disease as well. I'm assuming that the smokers deaths could most likely be linked to lung failure or cancer rather than a cardiovascular disease. We can actually see in figure 2, the direct correlations that each feature have with each other. Age and high blood pressure increase with each other, so the older you are, the higher blood pressure you might have which puts you in higher risk of a cardiovascular disease. Also with age, you tend to see more anaemia which you can see in the correlation chart. The smoking and diabetes features however, have an inverse effect which each other which also makes sense. If you have diabetes, chances are you probably are not going to be smoking which is why those features have a negative correlation.\n",
    "    \n",
    "   Now we have to check for multicollinearity, which refers to high correlation among the model's features. To diagnose this we have to take a look at the variance inflation factor or VIF scores. We do this in figure 5 where we are generally concerned with VIF factors greater than two. None of the VIF scores in figure 5 are greater than two so we do not have a problem. In the next part, we are going to split the data set into train and test sets is to see whether the models for the two different samples are comparable. We do this in figure 3 and figure 4. When you compare the pseudo R-squared of two similar models, we can see which model better predicts the outcome. Figure 3 has a pseudo r-squared of 0.1580 while figure 4 has a pseudo r-squared of 0.08729. The higher pseudo r-squared indicates which model better predicts the outcome. In this situation that would be the train model, which is figure 3. In figure 3, this shows that smoking and high blood pressure are the leading factors in heart disease. The coefficient numbers spiked for these two showing a dramatic increase of a death event with high blood pressure and smoking showing that the people who landed in the train model most likely had a death event while being a smoker and having high blood pressure. Still in figure 1, it shows that the higher age you are and the higher your blood pressue is, the more liekly you will have a death event linked to cardiovascular disease."
   ]
  },
  {
   "cell_type": "code",
   "execution_count": 1,
   "metadata": {},
   "outputs": [
    {
     "data": {
      "text/html": [
       "<div>\n",
       "<style scoped>\n",
       "    .dataframe tbody tr th:only-of-type {\n",
       "        vertical-align: middle;\n",
       "    }\n",
       "\n",
       "    .dataframe tbody tr th {\n",
       "        vertical-align: top;\n",
       "    }\n",
       "\n",
       "    .dataframe thead th {\n",
       "        text-align: right;\n",
       "    }\n",
       "</style>\n",
       "<table border=\"1\" class=\"dataframe\">\n",
       "  <thead>\n",
       "    <tr style=\"text-align: right;\">\n",
       "      <th></th>\n",
       "      <th>age</th>\n",
       "      <th>anaemia</th>\n",
       "      <th>creatinine_phosphokinase</th>\n",
       "      <th>diabetes</th>\n",
       "      <th>ejection_fraction</th>\n",
       "      <th>high_blood_pressure</th>\n",
       "      <th>platelets</th>\n",
       "      <th>serum_creatinine</th>\n",
       "      <th>serum_sodium</th>\n",
       "      <th>sex</th>\n",
       "      <th>smoking</th>\n",
       "      <th>time</th>\n",
       "      <th>DEATH_EVENT</th>\n",
       "    </tr>\n",
       "  </thead>\n",
       "  <tbody>\n",
       "    <tr>\n",
       "      <th>0</th>\n",
       "      <td>75.0</td>\n",
       "      <td>0</td>\n",
       "      <td>582</td>\n",
       "      <td>0</td>\n",
       "      <td>20</td>\n",
       "      <td>1</td>\n",
       "      <td>265000.00</td>\n",
       "      <td>1.9</td>\n",
       "      <td>130</td>\n",
       "      <td>1</td>\n",
       "      <td>0</td>\n",
       "      <td>4</td>\n",
       "      <td>1</td>\n",
       "    </tr>\n",
       "    <tr>\n",
       "      <th>1</th>\n",
       "      <td>55.0</td>\n",
       "      <td>0</td>\n",
       "      <td>7861</td>\n",
       "      <td>0</td>\n",
       "      <td>38</td>\n",
       "      <td>0</td>\n",
       "      <td>263358.03</td>\n",
       "      <td>1.1</td>\n",
       "      <td>136</td>\n",
       "      <td>1</td>\n",
       "      <td>0</td>\n",
       "      <td>6</td>\n",
       "      <td>1</td>\n",
       "    </tr>\n",
       "    <tr>\n",
       "      <th>2</th>\n",
       "      <td>65.0</td>\n",
       "      <td>0</td>\n",
       "      <td>146</td>\n",
       "      <td>0</td>\n",
       "      <td>20</td>\n",
       "      <td>0</td>\n",
       "      <td>162000.00</td>\n",
       "      <td>1.3</td>\n",
       "      <td>129</td>\n",
       "      <td>1</td>\n",
       "      <td>1</td>\n",
       "      <td>7</td>\n",
       "      <td>1</td>\n",
       "    </tr>\n",
       "    <tr>\n",
       "      <th>3</th>\n",
       "      <td>50.0</td>\n",
       "      <td>1</td>\n",
       "      <td>111</td>\n",
       "      <td>0</td>\n",
       "      <td>20</td>\n",
       "      <td>0</td>\n",
       "      <td>210000.00</td>\n",
       "      <td>1.9</td>\n",
       "      <td>137</td>\n",
       "      <td>1</td>\n",
       "      <td>0</td>\n",
       "      <td>7</td>\n",
       "      <td>1</td>\n",
       "    </tr>\n",
       "    <tr>\n",
       "      <th>4</th>\n",
       "      <td>65.0</td>\n",
       "      <td>1</td>\n",
       "      <td>160</td>\n",
       "      <td>1</td>\n",
       "      <td>20</td>\n",
       "      <td>0</td>\n",
       "      <td>327000.00</td>\n",
       "      <td>2.7</td>\n",
       "      <td>116</td>\n",
       "      <td>0</td>\n",
       "      <td>0</td>\n",
       "      <td>8</td>\n",
       "      <td>1</td>\n",
       "    </tr>\n",
       "  </tbody>\n",
       "</table>\n",
       "</div>"
      ],
      "text/plain": [
       "    age  anaemia  creatinine_phosphokinase  diabetes  ejection_fraction  \\\n",
       "0  75.0        0                       582         0                 20   \n",
       "1  55.0        0                      7861         0                 38   \n",
       "2  65.0        0                       146         0                 20   \n",
       "3  50.0        1                       111         0                 20   \n",
       "4  65.0        1                       160         1                 20   \n",
       "\n",
       "   high_blood_pressure  platelets  serum_creatinine  serum_sodium  sex  \\\n",
       "0                    1  265000.00               1.9           130    1   \n",
       "1                    0  263358.03               1.1           136    1   \n",
       "2                    0  162000.00               1.3           129    1   \n",
       "3                    0  210000.00               1.9           137    1   \n",
       "4                    0  327000.00               2.7           116    0   \n",
       "\n",
       "   smoking  time  DEATH_EVENT  \n",
       "0        0     4            1  \n",
       "1        0     6            1  \n",
       "2        1     7            1  \n",
       "3        0     7            1  \n",
       "4        0     8            1  "
      ]
     },
     "execution_count": 1,
     "metadata": {},
     "output_type": "execute_result"
    }
   ],
   "source": [
    "import pandas as pd\n",
    "heart = pd.read_csv('heart_failure_clinical_records_dataset.csv')\n",
    "heart.head()"
   ]
  },
  {
   "cell_type": "code",
   "execution_count": 2,
   "metadata": {},
   "outputs": [
    {
     "data": {
      "text/plain": [
       "(299, 13)"
      ]
     },
     "execution_count": 2,
     "metadata": {},
     "output_type": "execute_result"
    }
   ],
   "source": [
    "heart.shape"
   ]
  },
  {
   "cell_type": "markdown",
   "metadata": {},
   "source": [
    "**What does binary output mean for each category?**\n",
    "- Sex: Gender of patient Male = 1, Female =0\n",
    "- Age: Age of patient\n",
    "- Diabetes: 0 = No, 1 = Yes\n",
    "- Anaemia: 0 = No, 1 = Yes\n",
    "- High_blood_pressure: 0 = No, 1 = Yes\n",
    "- Smoking: 0 = No, 1 = Yes\n",
    "- DEATH_EVENT: 0 = No, 1 = Yes"
   ]
  },
  {
   "cell_type": "markdown",
   "metadata": {},
   "source": [
    "A couple intresting points about this data:\n",
    "- The average age in this data set is 60.83, so it's mainly geared towards that age group\n",
    "- A majority of the people in this data set are male\n",
    "- A majority do not smoke or have high blood pressure\n",
    "- Most importantly, only 32% of people in this data set died. "
   ]
  },
  {
   "cell_type": "code",
   "execution_count": 3,
   "metadata": {},
   "outputs": [
    {
     "data": {
      "text/html": [
       "<div>\n",
       "<style scoped>\n",
       "    .dataframe tbody tr th:only-of-type {\n",
       "        vertical-align: middle;\n",
       "    }\n",
       "\n",
       "    .dataframe tbody tr th {\n",
       "        vertical-align: top;\n",
       "    }\n",
       "\n",
       "    .dataframe thead th {\n",
       "        text-align: right;\n",
       "    }\n",
       "</style>\n",
       "<table border=\"1\" class=\"dataframe\">\n",
       "  <thead>\n",
       "    <tr style=\"text-align: right;\">\n",
       "      <th></th>\n",
       "      <th>count</th>\n",
       "      <th>mean</th>\n",
       "      <th>std</th>\n",
       "      <th>min</th>\n",
       "      <th>25%</th>\n",
       "      <th>50%</th>\n",
       "      <th>75%</th>\n",
       "      <th>max</th>\n",
       "    </tr>\n",
       "  </thead>\n",
       "  <tbody>\n",
       "    <tr>\n",
       "      <th>age</th>\n",
       "      <td>299.0</td>\n",
       "      <td>60.833893</td>\n",
       "      <td>11.894809</td>\n",
       "      <td>40.0</td>\n",
       "      <td>51.0</td>\n",
       "      <td>60.0</td>\n",
       "      <td>70.0</td>\n",
       "      <td>95.0</td>\n",
       "    </tr>\n",
       "    <tr>\n",
       "      <th>anaemia</th>\n",
       "      <td>299.0</td>\n",
       "      <td>0.431438</td>\n",
       "      <td>0.496107</td>\n",
       "      <td>0.0</td>\n",
       "      <td>0.0</td>\n",
       "      <td>0.0</td>\n",
       "      <td>1.0</td>\n",
       "      <td>1.0</td>\n",
       "    </tr>\n",
       "    <tr>\n",
       "      <th>creatinine_phosphokinase</th>\n",
       "      <td>299.0</td>\n",
       "      <td>581.839465</td>\n",
       "      <td>970.287881</td>\n",
       "      <td>23.0</td>\n",
       "      <td>116.5</td>\n",
       "      <td>250.0</td>\n",
       "      <td>582.0</td>\n",
       "      <td>7861.0</td>\n",
       "    </tr>\n",
       "    <tr>\n",
       "      <th>diabetes</th>\n",
       "      <td>299.0</td>\n",
       "      <td>0.418060</td>\n",
       "      <td>0.494067</td>\n",
       "      <td>0.0</td>\n",
       "      <td>0.0</td>\n",
       "      <td>0.0</td>\n",
       "      <td>1.0</td>\n",
       "      <td>1.0</td>\n",
       "    </tr>\n",
       "    <tr>\n",
       "      <th>ejection_fraction</th>\n",
       "      <td>299.0</td>\n",
       "      <td>38.083612</td>\n",
       "      <td>11.834841</td>\n",
       "      <td>14.0</td>\n",
       "      <td>30.0</td>\n",
       "      <td>38.0</td>\n",
       "      <td>45.0</td>\n",
       "      <td>80.0</td>\n",
       "    </tr>\n",
       "    <tr>\n",
       "      <th>high_blood_pressure</th>\n",
       "      <td>299.0</td>\n",
       "      <td>0.351171</td>\n",
       "      <td>0.478136</td>\n",
       "      <td>0.0</td>\n",
       "      <td>0.0</td>\n",
       "      <td>0.0</td>\n",
       "      <td>1.0</td>\n",
       "      <td>1.0</td>\n",
       "    </tr>\n",
       "    <tr>\n",
       "      <th>platelets</th>\n",
       "      <td>299.0</td>\n",
       "      <td>263358.029264</td>\n",
       "      <td>97804.236869</td>\n",
       "      <td>25100.0</td>\n",
       "      <td>212500.0</td>\n",
       "      <td>262000.0</td>\n",
       "      <td>303500.0</td>\n",
       "      <td>850000.0</td>\n",
       "    </tr>\n",
       "    <tr>\n",
       "      <th>serum_creatinine</th>\n",
       "      <td>299.0</td>\n",
       "      <td>1.393880</td>\n",
       "      <td>1.034510</td>\n",
       "      <td>0.5</td>\n",
       "      <td>0.9</td>\n",
       "      <td>1.1</td>\n",
       "      <td>1.4</td>\n",
       "      <td>9.4</td>\n",
       "    </tr>\n",
       "    <tr>\n",
       "      <th>serum_sodium</th>\n",
       "      <td>299.0</td>\n",
       "      <td>136.625418</td>\n",
       "      <td>4.412477</td>\n",
       "      <td>113.0</td>\n",
       "      <td>134.0</td>\n",
       "      <td>137.0</td>\n",
       "      <td>140.0</td>\n",
       "      <td>148.0</td>\n",
       "    </tr>\n",
       "    <tr>\n",
       "      <th>sex</th>\n",
       "      <td>299.0</td>\n",
       "      <td>0.648829</td>\n",
       "      <td>0.478136</td>\n",
       "      <td>0.0</td>\n",
       "      <td>0.0</td>\n",
       "      <td>1.0</td>\n",
       "      <td>1.0</td>\n",
       "      <td>1.0</td>\n",
       "    </tr>\n",
       "    <tr>\n",
       "      <th>smoking</th>\n",
       "      <td>299.0</td>\n",
       "      <td>0.321070</td>\n",
       "      <td>0.467670</td>\n",
       "      <td>0.0</td>\n",
       "      <td>0.0</td>\n",
       "      <td>0.0</td>\n",
       "      <td>1.0</td>\n",
       "      <td>1.0</td>\n",
       "    </tr>\n",
       "    <tr>\n",
       "      <th>time</th>\n",
       "      <td>299.0</td>\n",
       "      <td>130.260870</td>\n",
       "      <td>77.614208</td>\n",
       "      <td>4.0</td>\n",
       "      <td>73.0</td>\n",
       "      <td>115.0</td>\n",
       "      <td>203.0</td>\n",
       "      <td>285.0</td>\n",
       "    </tr>\n",
       "    <tr>\n",
       "      <th>DEATH_EVENT</th>\n",
       "      <td>299.0</td>\n",
       "      <td>0.321070</td>\n",
       "      <td>0.467670</td>\n",
       "      <td>0.0</td>\n",
       "      <td>0.0</td>\n",
       "      <td>0.0</td>\n",
       "      <td>1.0</td>\n",
       "      <td>1.0</td>\n",
       "    </tr>\n",
       "  </tbody>\n",
       "</table>\n",
       "</div>"
      ],
      "text/plain": [
       "                          count           mean           std      min  \\\n",
       "age                       299.0      60.833893     11.894809     40.0   \n",
       "anaemia                   299.0       0.431438      0.496107      0.0   \n",
       "creatinine_phosphokinase  299.0     581.839465    970.287881     23.0   \n",
       "diabetes                  299.0       0.418060      0.494067      0.0   \n",
       "ejection_fraction         299.0      38.083612     11.834841     14.0   \n",
       "high_blood_pressure       299.0       0.351171      0.478136      0.0   \n",
       "platelets                 299.0  263358.029264  97804.236869  25100.0   \n",
       "serum_creatinine          299.0       1.393880      1.034510      0.5   \n",
       "serum_sodium              299.0     136.625418      4.412477    113.0   \n",
       "sex                       299.0       0.648829      0.478136      0.0   \n",
       "smoking                   299.0       0.321070      0.467670      0.0   \n",
       "time                      299.0     130.260870     77.614208      4.0   \n",
       "DEATH_EVENT               299.0       0.321070      0.467670      0.0   \n",
       "\n",
       "                               25%       50%       75%       max  \n",
       "age                           51.0      60.0      70.0      95.0  \n",
       "anaemia                        0.0       0.0       1.0       1.0  \n",
       "creatinine_phosphokinase     116.5     250.0     582.0    7861.0  \n",
       "diabetes                       0.0       0.0       1.0       1.0  \n",
       "ejection_fraction             30.0      38.0      45.0      80.0  \n",
       "high_blood_pressure            0.0       0.0       1.0       1.0  \n",
       "platelets                 212500.0  262000.0  303500.0  850000.0  \n",
       "serum_creatinine               0.9       1.1       1.4       9.4  \n",
       "serum_sodium                 134.0     137.0     140.0     148.0  \n",
       "sex                            0.0       1.0       1.0       1.0  \n",
       "smoking                        0.0       0.0       1.0       1.0  \n",
       "time                          73.0     115.0     203.0     285.0  \n",
       "DEATH_EVENT                    0.0       0.0       1.0       1.0  "
      ]
     },
     "execution_count": 3,
     "metadata": {},
     "output_type": "execute_result"
    }
   ],
   "source": [
    "heart.describe().transpose()"
   ]
  },
  {
   "cell_type": "code",
   "execution_count": 4,
   "metadata": {},
   "outputs": [],
   "source": [
    "df = heart.copy()"
   ]
  },
  {
   "cell_type": "code",
   "execution_count": 5,
   "metadata": {},
   "outputs": [
    {
     "data": {
      "text/plain": [
       "age                         0\n",
       "anaemia                     0\n",
       "creatinine_phosphokinase    0\n",
       "diabetes                    0\n",
       "ejection_fraction           0\n",
       "high_blood_pressure         0\n",
       "platelets                   0\n",
       "serum_creatinine            0\n",
       "serum_sodium                0\n",
       "sex                         0\n",
       "smoking                     0\n",
       "time                        0\n",
       "DEATH_EVENT                 0\n",
       "dtype: int64"
      ]
     },
     "execution_count": 5,
     "metadata": {},
     "output_type": "execute_result"
    }
   ],
   "source": [
    "# Make sure there are no null values\n",
    "df.isnull().sum()"
   ]
  },
  {
   "cell_type": "code",
   "execution_count": 6,
   "metadata": {},
   "outputs": [
    {
     "data": {
      "text/plain": [
       "(299, 13)"
      ]
     },
     "execution_count": 6,
     "metadata": {},
     "output_type": "execute_result"
    }
   ],
   "source": [
    "df2 = df.copy()\n",
    "df2.shape"
   ]
  },
  {
   "cell_type": "markdown",
   "metadata": {},
   "source": [
    "Created to new columns for adults and male:\n",
    "- If age is 18 or over, then the row value will be true\n",
    "- In the male column, it will be a 1 if you are a male, 0 if women"
   ]
  },
  {
   "cell_type": "code",
   "execution_count": 7,
   "metadata": {},
   "outputs": [],
   "source": [
    "# Change to true if you are equal or above the age of q6\n",
    "df2['age'] = pd.to_numeric(df['age'])\n",
    "df2['adults'] = df2['age'] >= 18"
   ]
  },
  {
   "cell_type": "code",
   "execution_count": 8,
   "metadata": {},
   "outputs": [
    {
     "name": "stderr",
     "output_type": "stream",
     "text": [
      "/Users/davidabraham/opt/anaconda3/envs/py35/lib/python3.5/site-packages/ipykernel_launcher.py:3: SettingWithCopyWarning: \n",
      "A value is trying to be set on a copy of a slice from a DataFrame\n",
      "\n",
      "See the caveats in the documentation: http://pandas.pydata.org/pandas-docs/stable/indexing.html#indexing-view-versus-copy\n",
      "  This is separate from the ipykernel package so we can avoid doing imports until\n"
     ]
    }
   ],
   "source": [
    "# Created a new column named male\n",
    "df2['male'] = 0\n",
    "df2.male[df2.sex == 1] = 1"
   ]
  },
  {
   "cell_type": "code",
   "execution_count": 9,
   "metadata": {},
   "outputs": [],
   "source": [
    "# We will not use these points so decided to drop them from set df2\n",
    "df2 = df2.drop(['creatinine_phosphokinase', 'ejection_fraction', 'platelets', 'serum_creatinine', 'serum_sodium',\\\n",
    "          'time'], axis=1)"
   ]
  },
  {
   "cell_type": "code",
   "execution_count": 10,
   "metadata": {},
   "outputs": [
    {
     "data": {
      "text/html": [
       "<div>\n",
       "<style scoped>\n",
       "    .dataframe tbody tr th:only-of-type {\n",
       "        vertical-align: middle;\n",
       "    }\n",
       "\n",
       "    .dataframe tbody tr th {\n",
       "        vertical-align: top;\n",
       "    }\n",
       "\n",
       "    .dataframe thead th {\n",
       "        text-align: right;\n",
       "    }\n",
       "</style>\n",
       "<table border=\"1\" class=\"dataframe\">\n",
       "  <thead>\n",
       "    <tr style=\"text-align: right;\">\n",
       "      <th></th>\n",
       "      <th>age</th>\n",
       "      <th>anaemia</th>\n",
       "      <th>diabetes</th>\n",
       "      <th>high_blood_pressure</th>\n",
       "      <th>sex</th>\n",
       "      <th>smoking</th>\n",
       "      <th>DEATH_EVENT</th>\n",
       "      <th>adults</th>\n",
       "      <th>male</th>\n",
       "    </tr>\n",
       "  </thead>\n",
       "  <tbody>\n",
       "    <tr>\n",
       "      <th>0</th>\n",
       "      <td>75.0</td>\n",
       "      <td>0</td>\n",
       "      <td>0</td>\n",
       "      <td>1</td>\n",
       "      <td>1</td>\n",
       "      <td>0</td>\n",
       "      <td>1</td>\n",
       "      <td>True</td>\n",
       "      <td>1</td>\n",
       "    </tr>\n",
       "    <tr>\n",
       "      <th>1</th>\n",
       "      <td>55.0</td>\n",
       "      <td>0</td>\n",
       "      <td>0</td>\n",
       "      <td>0</td>\n",
       "      <td>1</td>\n",
       "      <td>0</td>\n",
       "      <td>1</td>\n",
       "      <td>True</td>\n",
       "      <td>1</td>\n",
       "    </tr>\n",
       "    <tr>\n",
       "      <th>2</th>\n",
       "      <td>65.0</td>\n",
       "      <td>0</td>\n",
       "      <td>0</td>\n",
       "      <td>0</td>\n",
       "      <td>1</td>\n",
       "      <td>1</td>\n",
       "      <td>1</td>\n",
       "      <td>True</td>\n",
       "      <td>1</td>\n",
       "    </tr>\n",
       "    <tr>\n",
       "      <th>3</th>\n",
       "      <td>50.0</td>\n",
       "      <td>1</td>\n",
       "      <td>0</td>\n",
       "      <td>0</td>\n",
       "      <td>1</td>\n",
       "      <td>0</td>\n",
       "      <td>1</td>\n",
       "      <td>True</td>\n",
       "      <td>1</td>\n",
       "    </tr>\n",
       "    <tr>\n",
       "      <th>4</th>\n",
       "      <td>65.0</td>\n",
       "      <td>1</td>\n",
       "      <td>1</td>\n",
       "      <td>0</td>\n",
       "      <td>0</td>\n",
       "      <td>0</td>\n",
       "      <td>1</td>\n",
       "      <td>True</td>\n",
       "      <td>0</td>\n",
       "    </tr>\n",
       "  </tbody>\n",
       "</table>\n",
       "</div>"
      ],
      "text/plain": [
       "    age  anaemia  diabetes  high_blood_pressure  sex  smoking  DEATH_EVENT  \\\n",
       "0  75.0        0         0                    1    1        0            1   \n",
       "1  55.0        0         0                    0    1        0            1   \n",
       "2  65.0        0         0                    0    1        1            1   \n",
       "3  50.0        1         0                    0    1        0            1   \n",
       "4  65.0        1         1                    0    0        0            1   \n",
       "\n",
       "   adults  male  \n",
       "0    True     1  \n",
       "1    True     1  \n",
       "2    True     1  \n",
       "3    True     1  \n",
       "4    True     0  "
      ]
     },
     "execution_count": 10,
     "metadata": {},
     "output_type": "execute_result"
    }
   ],
   "source": [
    "df2.head()"
   ]
  },
  {
   "cell_type": "code",
   "execution_count": 11,
   "metadata": {},
   "outputs": [],
   "source": [
    "df3 = df2.copy()"
   ]
  },
  {
   "cell_type": "markdown",
   "metadata": {},
   "source": [
    "Decided to drop anyone who was female and focus on the males of the database since they seemed to be the majority. Also dropped people the rows containing people who are younger than 18 because those people are at low risk for heart disease."
   ]
  },
  {
   "cell_type": "code",
   "execution_count": 12,
   "metadata": {},
   "outputs": [],
   "source": [
    "df3.drop(df3[df3['adults'] == False].index, inplace=True)\n",
    "df3.drop(df3[df3['male'] == 0].index, inplace=True)"
   ]
  },
  {
   "cell_type": "code",
   "execution_count": null,
   "metadata": {},
   "outputs": [],
   "source": []
  },
  {
   "cell_type": "code",
   "execution_count": 13,
   "metadata": {},
   "outputs": [],
   "source": [
    "# split data into X and Y dataframes\n",
    "X = df3[['diabetes','anaemia','high_blood_pressure','smoking','age']].copy() \n",
    "Y = df3['DEATH_EVENT'].copy()"
   ]
  },
  {
   "cell_type": "code",
   "execution_count": 14,
   "metadata": {},
   "outputs": [
    {
     "data": {
      "text/html": [
       "<div>\n",
       "<style scoped>\n",
       "    .dataframe tbody tr th:only-of-type {\n",
       "        vertical-align: middle;\n",
       "    }\n",
       "\n",
       "    .dataframe tbody tr th {\n",
       "        vertical-align: top;\n",
       "    }\n",
       "\n",
       "    .dataframe thead th {\n",
       "        text-align: right;\n",
       "    }\n",
       "</style>\n",
       "<table border=\"1\" class=\"dataframe\">\n",
       "  <thead>\n",
       "    <tr style=\"text-align: right;\">\n",
       "      <th></th>\n",
       "      <th>age</th>\n",
       "      <th>anaemia</th>\n",
       "      <th>diabetes</th>\n",
       "      <th>high_blood_pressure</th>\n",
       "      <th>sex</th>\n",
       "      <th>smoking</th>\n",
       "      <th>DEATH_EVENT</th>\n",
       "      <th>adults</th>\n",
       "      <th>male</th>\n",
       "    </tr>\n",
       "  </thead>\n",
       "  <tbody>\n",
       "    <tr>\n",
       "      <th>0</th>\n",
       "      <td>75.0</td>\n",
       "      <td>0</td>\n",
       "      <td>0</td>\n",
       "      <td>1</td>\n",
       "      <td>1</td>\n",
       "      <td>0</td>\n",
       "      <td>1</td>\n",
       "      <td>True</td>\n",
       "      <td>1</td>\n",
       "    </tr>\n",
       "    <tr>\n",
       "      <th>1</th>\n",
       "      <td>55.0</td>\n",
       "      <td>0</td>\n",
       "      <td>0</td>\n",
       "      <td>0</td>\n",
       "      <td>1</td>\n",
       "      <td>0</td>\n",
       "      <td>1</td>\n",
       "      <td>True</td>\n",
       "      <td>1</td>\n",
       "    </tr>\n",
       "    <tr>\n",
       "      <th>2</th>\n",
       "      <td>65.0</td>\n",
       "      <td>0</td>\n",
       "      <td>0</td>\n",
       "      <td>0</td>\n",
       "      <td>1</td>\n",
       "      <td>1</td>\n",
       "      <td>1</td>\n",
       "      <td>True</td>\n",
       "      <td>1</td>\n",
       "    </tr>\n",
       "    <tr>\n",
       "      <th>3</th>\n",
       "      <td>50.0</td>\n",
       "      <td>1</td>\n",
       "      <td>0</td>\n",
       "      <td>0</td>\n",
       "      <td>1</td>\n",
       "      <td>0</td>\n",
       "      <td>1</td>\n",
       "      <td>True</td>\n",
       "      <td>1</td>\n",
       "    </tr>\n",
       "    <tr>\n",
       "      <th>5</th>\n",
       "      <td>90.0</td>\n",
       "      <td>1</td>\n",
       "      <td>0</td>\n",
       "      <td>1</td>\n",
       "      <td>1</td>\n",
       "      <td>1</td>\n",
       "      <td>1</td>\n",
       "      <td>True</td>\n",
       "      <td>1</td>\n",
       "    </tr>\n",
       "  </tbody>\n",
       "</table>\n",
       "</div>"
      ],
      "text/plain": [
       "    age  anaemia  diabetes  high_blood_pressure  sex  smoking  DEATH_EVENT  \\\n",
       "0  75.0        0         0                    1    1        0            1   \n",
       "1  55.0        0         0                    0    1        0            1   \n",
       "2  65.0        0         0                    0    1        1            1   \n",
       "3  50.0        1         0                    0    1        0            1   \n",
       "5  90.0        1         0                    1    1        1            1   \n",
       "\n",
       "   adults  male  \n",
       "0    True     1  \n",
       "1    True     1  \n",
       "2    True     1  \n",
       "3    True     1  \n",
       "5    True     1  "
      ]
     },
     "execution_count": 14,
     "metadata": {},
     "output_type": "execute_result"
    }
   ],
   "source": [
    "df3.head()"
   ]
  },
  {
   "cell_type": "markdown",
   "metadata": {},
   "source": [
    "## Memo\n"
   ]
  },
  {
   "cell_type": "markdown",
   "metadata": {},
   "source": []
  },
  {
   "cell_type": "markdown",
   "metadata": {},
   "source": [
    "## Appendix"
   ]
  },
  {
   "cell_type": "markdown",
   "metadata": {},
   "source": [
    "**Figure 1**"
   ]
  },
  {
   "cell_type": "code",
   "execution_count": 15,
   "metadata": {},
   "outputs": [
    {
     "name": "stdout",
     "output_type": "stream",
     "text": [
      "Optimization terminated successfully.\n",
      "         Current function value: 0.576238\n",
      "         Iterations 5\n",
      "                           Logit Regression Results                           \n",
      "==============================================================================\n",
      "Dep. Variable:            DEATH_EVENT   No. Observations:                  194\n",
      "Model:                          Logit   Df Residuals:                      188\n",
      "Method:                           MLE   Df Model:                            5\n",
      "Date:                Sun, 06 Dec 2020   Pseudo R-squ.:                 0.08031\n",
      "Time:                        14:09:24   Log-Likelihood:                -111.79\n",
      "converged:                       True   LL-Null:                       -121.55\n",
      "                                        LLR p-value:                  0.001535\n",
      "=======================================================================================\n",
      "                          coef    std err          z      P>|z|      [0.025      0.975]\n",
      "---------------------------------------------------------------------------------------\n",
      "const                  -4.1252      0.943     -4.373      0.000      -5.974      -2.276\n",
      "diabetes               -0.1790      0.344     -0.520      0.603      -0.853       0.495\n",
      "anaemia                -0.0237      0.334     -0.071      0.944      -0.678       0.631\n",
      "high_blood_pressure     0.1326      0.344      0.385      0.700      -0.542       0.807\n",
      "smoking                -0.2169      0.329     -0.660      0.509      -0.861       0.427\n",
      "age                     0.0558      0.014      3.979      0.000       0.028       0.083\n",
      "=======================================================================================\n"
     ]
    }
   ],
   "source": [
    "import statsmodels.api as sm\n",
    "import math\n",
    "X = sm.add_constant(X) # required if a value for alpha is expected\n",
    "est = sm.Logit(Y,X).fit() # fit model\n",
    "predictions = est.predict() # get predicted values\n",
    "print(est.summary())"
   ]
  },
  {
   "cell_type": "markdown",
   "metadata": {},
   "source": [
    "**Figure 2**"
   ]
  },
  {
   "cell_type": "code",
   "execution_count": 16,
   "metadata": {},
   "outputs": [
    {
     "name": "stderr",
     "output_type": "stream",
     "text": [
      "/Users/davidabraham/opt/anaconda3/envs/py35/lib/python3.5/site-packages/matplotlib/colors.py:496: RuntimeWarning: invalid value encountered in less\n",
      "  xa[xa < 0] = -1\n"
     ]
    },
    {
     "data": {
      "text/html": [
       "<style  type=\"text/css\" >\n",
       "    #T_8d97a1be_37f6_11eb_9107_dca904881ef4row0_col0 {\n",
       "            background-color:  #fff7fb;\n",
       "        }    #T_8d97a1be_37f6_11eb_9107_dca904881ef4row0_col1 {\n",
       "            background-color:  #fff7fb;\n",
       "        }    #T_8d97a1be_37f6_11eb_9107_dca904881ef4row0_col2 {\n",
       "            background-color:  #fff7fb;\n",
       "        }    #T_8d97a1be_37f6_11eb_9107_dca904881ef4row0_col3 {\n",
       "            background-color:  #fff7fb;\n",
       "        }    #T_8d97a1be_37f6_11eb_9107_dca904881ef4row0_col4 {\n",
       "            background-color:  #fff7fb;\n",
       "        }    #T_8d97a1be_37f6_11eb_9107_dca904881ef4row0_col5 {\n",
       "            background-color:  #fff7fb;\n",
       "        }    #T_8d97a1be_37f6_11eb_9107_dca904881ef4row1_col0 {\n",
       "            background-color:  #fff7fb;\n",
       "        }    #T_8d97a1be_37f6_11eb_9107_dca904881ef4row1_col1 {\n",
       "            background-color:  #023858;\n",
       "        }    #T_8d97a1be_37f6_11eb_9107_dca904881ef4row1_col2 {\n",
       "            background-color:  #fbf3f9;\n",
       "        }    #T_8d97a1be_37f6_11eb_9107_dca904881ef4row1_col3 {\n",
       "            background-color:  #fdf5fa;\n",
       "        }    #T_8d97a1be_37f6_11eb_9107_dca904881ef4row1_col4 {\n",
       "            background-color:  #fff7fb;\n",
       "        }    #T_8d97a1be_37f6_11eb_9107_dca904881ef4row1_col5 {\n",
       "            background-color:  #fff7fb;\n",
       "        }    #T_8d97a1be_37f6_11eb_9107_dca904881ef4row2_col0 {\n",
       "            background-color:  #fff7fb;\n",
       "        }    #T_8d97a1be_37f6_11eb_9107_dca904881ef4row2_col1 {\n",
       "            background-color:  #f8f1f8;\n",
       "        }    #T_8d97a1be_37f6_11eb_9107_dca904881ef4row2_col2 {\n",
       "            background-color:  #023858;\n",
       "        }    #T_8d97a1be_37f6_11eb_9107_dca904881ef4row2_col3 {\n",
       "            background-color:  #f7f0f7;\n",
       "        }    #T_8d97a1be_37f6_11eb_9107_dca904881ef4row2_col4 {\n",
       "            background-color:  #fdf5fa;\n",
       "        }    #T_8d97a1be_37f6_11eb_9107_dca904881ef4row2_col5 {\n",
       "            background-color:  #e5e1ef;\n",
       "        }    #T_8d97a1be_37f6_11eb_9107_dca904881ef4row3_col0 {\n",
       "            background-color:  #fff7fb;\n",
       "        }    #T_8d97a1be_37f6_11eb_9107_dca904881ef4row3_col1 {\n",
       "            background-color:  #f3edf5;\n",
       "        }    #T_8d97a1be_37f6_11eb_9107_dca904881ef4row3_col2 {\n",
       "            background-color:  #f0eaf4;\n",
       "        }    #T_8d97a1be_37f6_11eb_9107_dca904881ef4row3_col3 {\n",
       "            background-color:  #023858;\n",
       "        }    #T_8d97a1be_37f6_11eb_9107_dca904881ef4row3_col4 {\n",
       "            background-color:  #f6eff7;\n",
       "        }    #T_8d97a1be_37f6_11eb_9107_dca904881ef4row3_col5 {\n",
       "            background-color:  #e4e1ef;\n",
       "        }    #T_8d97a1be_37f6_11eb_9107_dca904881ef4row4_col0 {\n",
       "            background-color:  #fff7fb;\n",
       "        }    #T_8d97a1be_37f6_11eb_9107_dca904881ef4row4_col1 {\n",
       "            background-color:  #fff7fb;\n",
       "        }    #T_8d97a1be_37f6_11eb_9107_dca904881ef4row4_col2 {\n",
       "            background-color:  #fff7fb;\n",
       "        }    #T_8d97a1be_37f6_11eb_9107_dca904881ef4row4_col3 {\n",
       "            background-color:  #fff7fb;\n",
       "        }    #T_8d97a1be_37f6_11eb_9107_dca904881ef4row4_col4 {\n",
       "            background-color:  #023858;\n",
       "        }    #T_8d97a1be_37f6_11eb_9107_dca904881ef4row4_col5 {\n",
       "            background-color:  #faf3f9;\n",
       "        }    #T_8d97a1be_37f6_11eb_9107_dca904881ef4row5_col0 {\n",
       "            background-color:  #fff7fb;\n",
       "        }    #T_8d97a1be_37f6_11eb_9107_dca904881ef4row5_col1 {\n",
       "            background-color:  #f8f1f8;\n",
       "        }    #T_8d97a1be_37f6_11eb_9107_dca904881ef4row5_col2 {\n",
       "            background-color:  #e0dded;\n",
       "        }    #T_8d97a1be_37f6_11eb_9107_dca904881ef4row5_col3 {\n",
       "            background-color:  #e7e3f0;\n",
       "        }    #T_8d97a1be_37f6_11eb_9107_dca904881ef4row5_col4 {\n",
       "            background-color:  #f4edf6;\n",
       "        }    #T_8d97a1be_37f6_11eb_9107_dca904881ef4row5_col5 {\n",
       "            background-color:  #023858;\n",
       "        }</style>  \n",
       "<table id=\"T_8d97a1be_37f6_11eb_9107_dca904881ef4\" > \n",
       "<thead>    <tr> \n",
       "        <th class=\"blank level0\" ></th> \n",
       "        <th class=\"col_heading level0 col0\" >const</th> \n",
       "        <th class=\"col_heading level0 col1\" >diabetes</th> \n",
       "        <th class=\"col_heading level0 col2\" >anaemia</th> \n",
       "        <th class=\"col_heading level0 col3\" >high_blood_pressure</th> \n",
       "        <th class=\"col_heading level0 col4\" >smoking</th> \n",
       "        <th class=\"col_heading level0 col5\" >age</th> \n",
       "    </tr></thead> \n",
       "<tbody>    <tr> \n",
       "        <th id=\"T_8d97a1be_37f6_11eb_9107_dca904881ef4level0_row0\" class=\"row_heading level0 row0\" >const</th> \n",
       "        <td id=\"T_8d97a1be_37f6_11eb_9107_dca904881ef4row0_col0\" class=\"data row0 col0\" >nan</td> \n",
       "        <td id=\"T_8d97a1be_37f6_11eb_9107_dca904881ef4row0_col1\" class=\"data row0 col1\" >nan</td> \n",
       "        <td id=\"T_8d97a1be_37f6_11eb_9107_dca904881ef4row0_col2\" class=\"data row0 col2\" >nan</td> \n",
       "        <td id=\"T_8d97a1be_37f6_11eb_9107_dca904881ef4row0_col3\" class=\"data row0 col3\" >nan</td> \n",
       "        <td id=\"T_8d97a1be_37f6_11eb_9107_dca904881ef4row0_col4\" class=\"data row0 col4\" >nan</td> \n",
       "        <td id=\"T_8d97a1be_37f6_11eb_9107_dca904881ef4row0_col5\" class=\"data row0 col5\" >nan</td> \n",
       "    </tr>    <tr> \n",
       "        <th id=\"T_8d97a1be_37f6_11eb_9107_dca904881ef4level0_row1\" class=\"row_heading level0 row1\" >diabetes</th> \n",
       "        <td id=\"T_8d97a1be_37f6_11eb_9107_dca904881ef4row1_col0\" class=\"data row1 col0\" >nan</td> \n",
       "        <td id=\"T_8d97a1be_37f6_11eb_9107_dca904881ef4row1_col1\" class=\"data row1 col1\" >1</td> \n",
       "        <td id=\"T_8d97a1be_37f6_11eb_9107_dca904881ef4row1_col2\" class=\"data row1 col2\" >-0.0610655</td> \n",
       "        <td id=\"T_8d97a1be_37f6_11eb_9107_dca904881ef4row1_col3\" class=\"data row1 col3\" >-0.0233564</td> \n",
       "        <td id=\"T_8d97a1be_37f6_11eb_9107_dca904881ef4row1_col4\" class=\"data row1 col4\" >-0.111688</td> \n",
       "        <td id=\"T_8d97a1be_37f6_11eb_9107_dca904881ef4row1_col5\" class=\"data row1 col5\" >-0.0613733</td> \n",
       "    </tr>    <tr> \n",
       "        <th id=\"T_8d97a1be_37f6_11eb_9107_dca904881ef4level0_row2\" class=\"row_heading level0 row2\" >anaemia</th> \n",
       "        <td id=\"T_8d97a1be_37f6_11eb_9107_dca904881ef4row2_col0\" class=\"data row2 col0\" >nan</td> \n",
       "        <td id=\"T_8d97a1be_37f6_11eb_9107_dca904881ef4row2_col1\" class=\"data row2 col1\" >-0.0610655</td> \n",
       "        <td id=\"T_8d97a1be_37f6_11eb_9107_dca904881ef4row2_col2\" class=\"data row2 col2\" >1</td> \n",
       "        <td id=\"T_8d97a1be_37f6_11eb_9107_dca904881ef4row2_col3\" class=\"data row2 col3\" >0.0178963</td> \n",
       "        <td id=\"T_8d97a1be_37f6_11eb_9107_dca904881ef4row2_col4\" class=\"data row2 col4\" >-0.0952734</td> \n",
       "        <td id=\"T_8d97a1be_37f6_11eb_9107_dca904881ef4row2_col5\" class=\"data row2 col5\" >0.104937</td> \n",
       "    </tr>    <tr> \n",
       "        <th id=\"T_8d97a1be_37f6_11eb_9107_dca904881ef4level0_row3\" class=\"row_heading level0 row3\" >high_blood_pressure</th> \n",
       "        <td id=\"T_8d97a1be_37f6_11eb_9107_dca904881ef4row3_col0\" class=\"data row3 col0\" >nan</td> \n",
       "        <td id=\"T_8d97a1be_37f6_11eb_9107_dca904881ef4row3_col1\" class=\"data row3 col1\" >-0.0233564</td> \n",
       "        <td id=\"T_8d97a1be_37f6_11eb_9107_dca904881ef4row3_col2\" class=\"data row3 col2\" >0.0178963</td> \n",
       "        <td id=\"T_8d97a1be_37f6_11eb_9107_dca904881ef4row3_col3\" class=\"data row3 col3\" >1</td> \n",
       "        <td id=\"T_8d97a1be_37f6_11eb_9107_dca904881ef4row3_col4\" class=\"data row3 col4\" >-0.0428634</td> \n",
       "        <td id=\"T_8d97a1be_37f6_11eb_9107_dca904881ef4row3_col5\" class=\"data row3 col5\" >0.110417</td> \n",
       "    </tr>    <tr> \n",
       "        <th id=\"T_8d97a1be_37f6_11eb_9107_dca904881ef4level0_row4\" class=\"row_heading level0 row4\" >smoking</th> \n",
       "        <td id=\"T_8d97a1be_37f6_11eb_9107_dca904881ef4row4_col0\" class=\"data row4 col0\" >nan</td> \n",
       "        <td id=\"T_8d97a1be_37f6_11eb_9107_dca904881ef4row4_col1\" class=\"data row4 col1\" >-0.111688</td> \n",
       "        <td id=\"T_8d97a1be_37f6_11eb_9107_dca904881ef4row4_col2\" class=\"data row4 col2\" >-0.0952734</td> \n",
       "        <td id=\"T_8d97a1be_37f6_11eb_9107_dca904881ef4row4_col3\" class=\"data row4 col3\" >-0.0428634</td> \n",
       "        <td id=\"T_8d97a1be_37f6_11eb_9107_dca904881ef4row4_col4\" class=\"data row4 col4\" >1</td> \n",
       "        <td id=\"T_8d97a1be_37f6_11eb_9107_dca904881ef4row4_col5\" class=\"data row4 col5\" >-0.0256584</td> \n",
       "    </tr>    <tr> \n",
       "        <th id=\"T_8d97a1be_37f6_11eb_9107_dca904881ef4level0_row5\" class=\"row_heading level0 row5\" >age</th> \n",
       "        <td id=\"T_8d97a1be_37f6_11eb_9107_dca904881ef4row5_col0\" class=\"data row5 col0\" >nan</td> \n",
       "        <td id=\"T_8d97a1be_37f6_11eb_9107_dca904881ef4row5_col1\" class=\"data row5 col1\" >-0.0613733</td> \n",
       "        <td id=\"T_8d97a1be_37f6_11eb_9107_dca904881ef4row5_col2\" class=\"data row5 col2\" >0.104937</td> \n",
       "        <td id=\"T_8d97a1be_37f6_11eb_9107_dca904881ef4row5_col3\" class=\"data row5 col3\" >0.110417</td> \n",
       "        <td id=\"T_8d97a1be_37f6_11eb_9107_dca904881ef4row5_col4\" class=\"data row5 col4\" >-0.0256584</td> \n",
       "        <td id=\"T_8d97a1be_37f6_11eb_9107_dca904881ef4row5_col5\" class=\"data row5 col5\" >1</td> \n",
       "    </tr></tbody> \n",
       "</table> "
      ],
      "text/plain": [
       "<pandas.io.formats.style.Styler at 0x1c09b76978>"
      ]
     },
     "execution_count": 16,
     "metadata": {},
     "output_type": "execute_result"
    }
   ],
   "source": [
    "corr = X.corr()\n",
    "corr.style.background_gradient()"
   ]
  },
  {
   "cell_type": "markdown",
   "metadata": {},
   "source": [
    "**Figure 3**"
   ]
  },
  {
   "cell_type": "code",
   "execution_count": 17,
   "metadata": {},
   "outputs": [],
   "source": [
    "from sklearn.model_selection import train_test_split\n",
    "X_train, X_test, y_train, y_test = train_test_split(X, Y, \\\n",
    "        test_size = 0.5, random_state = 2)"
   ]
  },
  {
   "cell_type": "code",
   "execution_count": 18,
   "metadata": {},
   "outputs": [
    {
     "name": "stdout",
     "output_type": "stream",
     "text": [
      "Optimization terminated successfully.\n",
      "         Current function value: 0.461176\n",
      "         Iterations 6\n",
      "                           Logit Regression Results                           \n",
      "==============================================================================\n",
      "Dep. Variable:            DEATH_EVENT   No. Observations:                   97\n",
      "Model:                          Logit   Df Residuals:                       91\n",
      "Method:                           MLE   Df Model:                            5\n",
      "Date:                Sun, 06 Dec 2020   Pseudo R-squ.:                  0.1580\n",
      "Time:                        14:09:24   Log-Likelihood:                -44.734\n",
      "converged:                       True   LL-Null:                       -53.130\n",
      "                                        LLR p-value:                  0.004913\n",
      "=======================================================================================\n",
      "                          coef    std err          z      P>|z|      [0.025      0.975]\n",
      "---------------------------------------------------------------------------------------\n",
      "const                  -6.1351      1.671     -3.672      0.000      -9.409      -2.861\n",
      "diabetes               -0.4424      0.605     -0.731      0.465      -1.629       0.744\n",
      "anaemia                -0.0151      0.571     -0.026      0.979      -1.135       1.105\n",
      "high_blood_pressure     1.0688      0.536      1.993      0.046       0.018       2.120\n",
      "smoking                 0.6158      0.541      1.138      0.255      -0.445       1.676\n",
      "age                     0.0675      0.024      2.836      0.005       0.021       0.114\n",
      "=======================================================================================\n"
     ]
    }
   ],
   "source": [
    "import statsmodels.api as sm\n",
    "import math\n",
    "from sklearn.metrics import mean_squared_error\n",
    "X_train = sm.add_constant(X_train) # required if constant expected\n",
    "est = sm.Logit(y_train,X_train).fit() # fit model\n",
    "predictions = est.predict() # get predicted values\n",
    "print(est.summary()) # prints full regression results"
   ]
  },
  {
   "cell_type": "markdown",
   "metadata": {},
   "source": [
    "**Figure 4**"
   ]
  },
  {
   "cell_type": "code",
   "execution_count": 19,
   "metadata": {},
   "outputs": [
    {
     "name": "stdout",
     "output_type": "stream",
     "text": [
      "Optimization terminated successfully.\n",
      "         Current function value: 0.615022\n",
      "         Iterations 5\n",
      "                           Logit Regression Results                           \n",
      "==============================================================================\n",
      "Dep. Variable:            DEATH_EVENT   No. Observations:                   97\n",
      "Model:                          Logit   Df Residuals:                       91\n",
      "Method:                           MLE   Df Model:                            5\n",
      "Date:                Sun, 06 Dec 2020   Pseudo R-squ.:                 0.08729\n",
      "Time:                        14:09:24   Log-Likelihood:                -59.657\n",
      "converged:                       True   LL-Null:                       -65.362\n",
      "                                        LLR p-value:                   0.04382\n",
      "=======================================================================================\n",
      "                          coef    std err          z      P>|z|      [0.025      0.975]\n",
      "---------------------------------------------------------------------------------------\n",
      "const                  -2.8929      1.207     -2.397      0.017      -5.259      -0.527\n",
      "diabetes               -0.2497      0.459     -0.543      0.587      -1.150       0.651\n",
      "anaemia                -0.3347      0.448     -0.747      0.455      -1.213       0.544\n",
      "high_blood_pressure    -0.3758      0.522     -0.720      0.471      -1.399       0.647\n",
      "smoking                -0.7368      0.459     -1.604      0.109      -1.637       0.164\n",
      "age                     0.0506      0.018      2.737      0.006       0.014       0.087\n",
      "=======================================================================================\n"
     ]
    }
   ],
   "source": [
    "import statsmodels.api as sm\n",
    "\n",
    "X_test = sm.add_constant(X_test) # required if constant expected\n",
    "est = sm.Logit(y_test,X_test).fit() # fit model\n",
    "predictions = est.predict() # get predicted values\n",
    "print(est.summary()) # prints full regression results"
   ]
  },
  {
   "cell_type": "markdown",
   "metadata": {},
   "source": [
    "**Figure 5**"
   ]
  },
  {
   "cell_type": "code",
   "execution_count": 20,
   "metadata": {},
   "outputs": [
    {
     "name": "stdout",
     "output_type": "stream",
     "text": [
      "VIF:    VIF Factor             features\n",
      "0   28.309503                const\n",
      "1    1.024993             diabetes\n",
      "2    1.017343              anaemia\n",
      "3    1.002764  high_blood_pressure\n",
      "4    1.038371              smoking\n",
      "5    1.003674                  age\n"
     ]
    }
   ],
   "source": [
    "from statsmodels.stats.outliers_influence import variance_inflation_factor\n",
    "\n",
    "variables = est.model.exog # get model features\n",
    "vif = pd.DataFrame() # create a dataframe\n",
    "vif[\"VIF Factor\"] = [variance_inflation_factor(variables, i) for i in range(variables.shape[1])]\n",
    "vif[\"features\"] = X_test.columns\n",
    "print('VIF: {}'.format(vif))"
   ]
  },
  {
   "cell_type": "code",
   "execution_count": null,
   "metadata": {},
   "outputs": [],
   "source": []
  }
 ],
 "metadata": {
  "kernelspec": {
   "display_name": "Python 3",
   "language": "python",
   "name": "python3"
  },
  "language_info": {
   "codemirror_mode": {
    "name": "ipython",
    "version": 3
   },
   "file_extension": ".py",
   "mimetype": "text/x-python",
   "name": "python",
   "nbconvert_exporter": "python",
   "pygments_lexer": "ipython3",
   "version": "3.5.6"
  }
 },
 "nbformat": 4,
 "nbformat_minor": 4
}
