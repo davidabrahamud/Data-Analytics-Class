{
 "cells": [
  {
   "cell_type": "markdown",
   "metadata": {},
   "source": [
    "# Introduction to Programming Business Applications\n",
    "# Fall 2019, Professor Tosyali\n",
    "# Homework 4 Solutions"
   ]
  },
  {
   "cell_type": "markdown",
   "metadata": {},
   "source": [
    "## Question 1\n",
    "Write a program that reads an unspecified number of integers from the user, determines how many positive and negative values have been read, computes the total and average of the input values (not counting zeros). Your program ends with the input **0**. Display the average as a floating-point with 2 digits after the decimal. Here is an example of sample run:\n",
    "\n",
    "- Enter an integer, the input ends if it is 0: 1\n",
    "- Enter an integer, the input ends if it is 0: 2\n",
    "- Enter an integer, the input ends if it is 0: -1\n",
    "- Enter an integer, the input ends if it is 0: 3\n",
    "- Enter an integer, the input ends if it is 0: 0\n",
    "- The number of positivies is 3\n",
    "- The number of negatives is 1\n",
    "- The total is 5\n",
    "- The average is 1.25"
   ]
  },
  {
   "cell_type": "code",
   "execution_count": 1,
   "metadata": {},
   "outputs": [
    {
     "name": "stdout",
     "output_type": "stream",
     "text": [
      "Enter an integer, the input ends if it is 0: 1\n",
      "Enter an integer, the input ends if it is 0: 2\n",
      "Enter an integer, the input ends if it is 0: -1\n",
      "Enter an integer, the input ends if it is 0: 3\n",
      "Enter an integer, the input ends if it is 0: 0\n",
      "The number of positives is 3\n",
      "The number of negatives is 1\n",
      "The total is 5\n",
      "The average is 1.25\n"
     ]
    }
   ],
   "source": [
    "## YOUR CODE HERE FOR QUESTION 1 \n",
    "total = 0\n",
    "num_pos = 0\n",
    "num_neg = 0\n",
    "integer = 1\n",
    "\n",
    "while integer != 0:\n",
    "    integer = eval(input(\"Enter an integer, the input ends if it is 0: \"))\n",
    "    if integer < 0:\n",
    "        num_neg = num_neg + 1\n",
    "    elif integer > 0: \n",
    "        num_pos = num_pos + 1\n",
    "        \n",
    "    total = total + integer\n",
    "    average = total / (num_neg + num_pos)\n",
    "    \n",
    "print(\"The number of positives is\", num_pos)\n",
    "print(\"The number of negatives is\", num_neg)\n",
    "print(\"The total is\", total)\n",
    "print(\"The average is\", average)\n"
   ]
  },
  {
   "cell_type": "markdown",
   "metadata": {},
   "source": [
    "## Question 2\n",
    "Suppose that the tuition for a university is \\\\$10,000 this year and increases 5\\% every year. Write a program that computes the tuition in ten years and the total cost of four years' worth of tuition starting ten years from now."
   ]
  },
  {
   "cell_type": "code",
   "execution_count": 11,
   "metadata": {},
   "outputs": [
    {
     "name": "stdout",
     "output_type": "stream",
     "text": [
      "1 \t 10500.00\n",
      "2 \t 11025.00\n",
      "3 \t 11576.25\n",
      "4 \t 12155.06\n",
      "5 \t 12762.82\n",
      "6 \t 13400.96\n",
      "7 \t 14071.00\n",
      "8 \t 14774.55\n",
      "9 \t 15513.28\n",
      "10 \t 16288.95\n",
      "11 \t 17103.39\n",
      "12 \t 17958.56\n",
      "13 \t 18856.49\n",
      "The tuition in ten years is 16288.95\n",
      "The total cost of four years' worth of tuition starting ten years from now is 70207.39\n"
     ]
    }
   ],
   "source": [
    "## YOUR CODE HERE FOR QUESTION 2\n",
    "\n",
    "year = 1\n",
    "tuition = 10000\n",
    "total_cost = 0\n",
    "\n",
    "while year <= 13:\n",
    "    tuition = tuition * 1.05\n",
    "    print(year, \"\\t\", format(tuition, \".2f\"))\n",
    "    if year == 10:\n",
    "        ten_tuition = tuition\n",
    "    if year >= 10 and year <=13:\n",
    "        total_cost = total_cost + tuition\n",
    "    year = year + 1\n",
    "    \n",
    "print(\"The tuition in ten years is\", format(ten_tuition, \".2f\"))\n",
    "print(\"The total cost of four years' worth of tuition starting ten years from now is\", format(total_cost, \".2f\"))"
   ]
  },
  {
   "cell_type": "markdown",
   "metadata": {},
   "source": [
    "## Question 3\n",
    "Write a program to sum the following series: \n",
    "\n",
    "$$\\frac{1}{3} + \\frac{3}{5} + \\frac{5}{7} + \\frac{7}{9} + \\frac{9}{11} + \\ldots + \\frac{95}{97} + \\frac{97}{99}$$\n",
    "\n",
    "Display the result using **print** function."
   ]
  },
  {
   "cell_type": "code",
   "execution_count": 13,
   "metadata": {},
   "outputs": [
    {
     "name": "stdout",
     "output_type": "stream",
     "text": [
      "45.12\n"
     ]
    }
   ],
   "source": [
    "## YOUR CODE HERE FOR QUESTION 3\n",
    "fraction = 0\n",
    "for num in range(1, 98, 2):\n",
    "    fraction = fraction + (num / (num+2))\n",
    "print(format(fraction, \".2f\"))"
   ]
  }
 ],
 "metadata": {
  "kernelspec": {
   "display_name": "Python 3",
   "language": "python",
   "name": "python3"
  },
  "language_info": {
   "codemirror_mode": {
    "name": "ipython",
    "version": 3
   },
   "file_extension": ".py",
   "mimetype": "text/x-python",
   "name": "python",
   "nbconvert_exporter": "python",
   "pygments_lexer": "ipython3",
   "version": "3.7.3"
  }
 },
 "nbformat": 4,
 "nbformat_minor": 2
}
